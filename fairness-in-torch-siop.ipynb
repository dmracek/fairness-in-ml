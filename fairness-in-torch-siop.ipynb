{
 "cells": [
  {
   "cell_type": "code",
   "execution_count": 1,
   "metadata": {},
   "outputs": [],
   "source": [
    "# HIDE\n",
    "%load_ext autoreload\n",
    "%autoreload 2"
   ]
  },
  {
   "cell_type": "code",
   "execution_count": 6,
   "metadata": {
    "scrolled": false
   },
   "outputs": [
    {
     "output_type": "error",
     "ename": "ModuleNotFoundError",
     "evalue": "No module named 'matplotlib'",
     "traceback": [
      "\u001b[0;31m---------------------------------------------------------------------------\u001b[0m",
      "\u001b[0;31mModuleNotFoundError\u001b[0m                       Traceback (most recent call last)",
      "\u001b[0;32m<ipython-input-6-a427a700b376>\u001b[0m in \u001b[0;36m<module>\u001b[0;34m\u001b[0m\n\u001b[1;32m      1\u001b[0m \u001b[0;31m# HIDE\u001b[0m\u001b[0;34m\u001b[0m\u001b[0;34m\u001b[0m\u001b[0;34m\u001b[0m\u001b[0m\n\u001b[0;32m----> 2\u001b[0;31m \u001b[0;32mimport\u001b[0m \u001b[0mmatplotlib\u001b[0m\u001b[0;34m.\u001b[0m\u001b[0mpyplot\u001b[0m \u001b[0;32mas\u001b[0m \u001b[0mplt\u001b[0m\u001b[0;34m\u001b[0m\u001b[0;34m\u001b[0m\u001b[0m\n\u001b[0m\u001b[1;32m      3\u001b[0m \u001b[0;32mimport\u001b[0m \u001b[0mnumpy\u001b[0m \u001b[0;32mas\u001b[0m \u001b[0mnp\u001b[0m\u001b[0;34m\u001b[0m\u001b[0;34m\u001b[0m\u001b[0m\n\u001b[1;32m      4\u001b[0m \u001b[0;34m\u001b[0m\u001b[0m\n\u001b[1;32m      5\u001b[0m \u001b[0;32mimport\u001b[0m \u001b[0mpandas\u001b[0m \u001b[0;32mas\u001b[0m \u001b[0mpd\u001b[0m\u001b[0;34m\u001b[0m\u001b[0;34m\u001b[0m\u001b[0m\n",
      "\u001b[0;31mModuleNotFoundError\u001b[0m: No module named 'matplotlib'"
     ]
    }
   ],
   "source": [
    "# HIDE\n",
    "import matplotlib.pyplot as plt\n",
    "import numpy as np\n",
    "\n",
    "import pandas as pd\n",
    "import seaborn as sns\n",
    "import torch\n",
    "import torch.nn as nn\n",
    "import torch.optim as optim\n",
    "from IPython import display\n",
    "from sklearn import metrics\n",
    "from sklearn.model_selection import train_test_split\n",
    "from sklearn.preprocessing import StandardScaler\n",
    "from sklearn.utils.class_weight import compute_class_weight\n",
    "from torch.utils.data import TensorDataset\n",
    "from torch.utils.data import DataLoader\n",
    "\n",
    "from fairness.helpers import load_ICU_data\n",
    "from fairness.helpers import plot_distributions\n",
    "from fairness.helpers import plot_distribution\n",
    "\n",
    "torch.manual_seed(1)\n",
    "np.random.seed(7)\n",
    "sns.set(style=\"white\", palette=\"muted\", color_codes=True, context=\"talk\")\n",
    "\n",
    "%matplotlib inline"
   ]
  },
  {
   "cell_type": "markdown",
   "metadata": {
    "scrolled": false
   },
   "source": [
    "# Fairness in Machine Learning with PyTorch"
   ]
  },
  {
   "cell_type": "markdown",
   "metadata": {},
   "source": [
    "Fairness is becoming a hot topic amongst machine learning researchers and practitioners.\n",
    "The field is aware that their models have a large impact on society and that their predictions are not always beneficial.\n",
    "In a [previous blog](https://blog.godatadriven.com/fairness-in-ml), Stijn showed how adversarial networks can be used to make fairer predictions.\n",
    "This blog post focuses on the implementation part of things, so that you as a practitioner are able to build your own fair classifiers.\n",
    "\n",
    "Lets start with a short recap of how adversarial networks can help to battle unfairness.\n",
    "Instead of having only a single classifier that makes predictions $\\hat{y}$ with data $X$, we introduce an adversary that tries to predict if the classifier is unfair for the sensitive attributes $Z$.\n",
    "The classifier has to compete with the adversary in a zero-sum game: the classifier has to make good predictions but is being penalized if the adversary detects unfair decisions.\n",
    "The end-result of this game is, hopefully, a fair classifier that is also good at predicting.\n",
    "\n",
    "<img src=\"images/architecture.png\" alt=\"Architecture\" width=\"750\">\n",
    "\n",
    "Instead of using keras and TensorFlow like the previous blog, we show how to use PyTorch to train the fair classifier.\n",
    "I find PyTorch a bit nicer to try out new ideas, and switching frameworks keeps the mind sharp and the FOMO away!\n",
    "Don't forget to read the [previous blog](https://blog.godatadriven.com/fairness-in-ml) so that you know why we're implementing these things.\n",
    "\n",
    "In the next section, we start by loading the datasets with some PyTorch utilities.\n",
    "After that, we will separately define and pretrain the classifier and adversarial.\n",
    "These components are then combined and trained together to give a fair classifier."
   ]
  },
  {
   "cell_type": "markdown",
   "metadata": {},
   "source": [
    "## Data"
   ]
  },
  {
   "cell_type": "markdown",
   "metadata": {},
   "source": [
    "Our goal is to predict income levels based on personal attributes, such as age, education and marital status.\n",
    "The problem is that our standard classifier is unfair to black people and women.\n",
    "All other attributes being equal, women will, for instance, have lower income predictions than men - even though gender is not part of the personal attributes.\n",
    "Biases like this can be specific to a dataset or even reflect the real world, but we don't want them to lead to unfair predictions.\n",
    "\n",
    "We will start with our dataset from the previous blog.\n",
    "We have the following pandas DataFrames:\n",
    "\n",
    "- `X_train`, `X_test`: attributes used for prediction - like age and native country\n",
    "- `y_train`, `y_test`: target we want to predict - if someone makes more than 50K\n",
    "- `Z_train`, `Z_test`: sensitive attributes - race and color"
   ]
  },
  {
   "cell_type": "code",
   "execution_count": 3,
   "metadata": {},
   "outputs": [
    {
     "output_type": "error",
     "ename": "NameError",
     "evalue": "name 'pd' is not defined",
     "traceback": [
      "\u001b[0;31m---------------------------------------------------------------------------\u001b[0m",
      "\u001b[0;31mNameError\u001b[0m                                 Traceback (most recent call last)",
      "\u001b[0;32m<ipython-input-3-0fb5800d1347>\u001b[0m in \u001b[0;36m<module>\u001b[0;34m\u001b[0m\n\u001b[0;32m----> 1\u001b[0;31m \u001b[0minput_data\u001b[0m \u001b[0;34m=\u001b[0m \u001b[0;34m(\u001b[0m\u001b[0mpd\u001b[0m\u001b[0;34m.\u001b[0m\u001b[0mread_csv\u001b[0m\u001b[0;34m(\u001b[0m\u001b[0;34m'data/siop_2020/siop_2020_train_filled.csv'\u001b[0m\u001b[0;34m,\u001b[0m \u001b[0msep\u001b[0m\u001b[0;34m=\u001b[0m\u001b[0;34mr'\\s*,\\s*'\u001b[0m\u001b[0;34m,\u001b[0m \u001b[0mengine\u001b[0m\u001b[0;34m=\u001b[0m\u001b[0;34m'python'\u001b[0m\u001b[0;34m)\u001b[0m\u001b[0;34m)\u001b[0m\u001b[0;34m\u001b[0m\u001b[0;34m\u001b[0m\u001b[0m\n\u001b[0m\u001b[1;32m      2\u001b[0m \u001b[0mdv_data\u001b[0m \u001b[0;34m=\u001b[0m \u001b[0;34m(\u001b[0m\u001b[0mpd\u001b[0m\u001b[0;34m.\u001b[0m\u001b[0mread_csv\u001b[0m\u001b[0;34m(\u001b[0m\u001b[0;34m'data/siop_2020/siop_2020_dev_filled.csv'\u001b[0m\u001b[0;34m,\u001b[0m \u001b[0msep\u001b[0m\u001b[0;34m=\u001b[0m\u001b[0;34mr'\\s*,\\s*'\u001b[0m\u001b[0;34m,\u001b[0m \u001b[0mengine\u001b[0m\u001b[0;34m=\u001b[0m\u001b[0;34m'python'\u001b[0m\u001b[0;34m)\u001b[0m\u001b[0;34m)\u001b[0m\u001b[0;34m\u001b[0m\u001b[0;34m\u001b[0m\u001b[0m\n",
      "\u001b[0;31mNameError\u001b[0m: name 'pd' is not defined"
     ]
    }
   ],
   "source": [
    "input_data = (pd.read_csv('data/siop_2020/siop_2020_train_filled.csv', sep=r'\\s*,\\s*', engine='python'))\n",
    "dv_data = (pd.read_csv('data/siop_2020/siop_2020_dev_filled.csv', sep=r'\\s*,\\s*', engine='python'))"
   ]
  },
  {
   "cell_type": "code",
   "execution_count": 25,
   "metadata": {},
   "outputs": [],
   "source": [
    "# sensitive attributes; we identify 'race' and 'sex' as sensitive attributes\n",
    "sensitive_attribs = ['Protected_Group']\n",
    "\n",
    "Z = (input_data.loc[:, sensitive_attribs])\n",
    "\n",
    "# targets; 1 when someone makes over 50k , otherwise 0\n",
    "y = (input_data['Retained'])\n",
    "#y = (input_data['High_Performer'])\n",
    "#y = (input_data.loc[:, ['High_Performer', 'Retained']])\n",
    "#y['High_Performer_Retained'] = np.where((y['High_Performer'] == 1) & (y['Retained'] == 1), 1, 0)\n",
    "#y = (y.loc[:, 'High_Performer_Retained'])\n",
    "\n",
    "# features; note that the 'target' and sentive attribute columns are dropped\n",
    "X = (input_data\n",
    "     .drop(columns=['UNIQUE_ID', 'Overall_Rating', 'Technical_Skills', 'Teamwork',\n",
    "                    'Customer_Service', 'Hire_Again', 'High_Performer', 'Protected_Group',\n",
    "                    'Retained', 'split']))"
   ]
  },
  {
   "cell_type": "code",
   "execution_count": 26,
   "metadata": {},
   "outputs": [],
   "source": [
    "list_category_features = [elem for elem in (list(X)) if not 'Time' in elem]\n",
    "\n",
    "for f in list_category_features:\n",
    "    X[f + '_Dummy'] = X[f].astype(str)\n",
    "\n",
    "list_dummy_features = [elem for elem in (list(X)) if elem.endswith('_Dummy')]\n",
    "df_get_dummies = X[list_dummy_features]\n",
    "\n",
    "df_dummies = pd.get_dummies(df_get_dummies, drop_first=True)\n",
    "X = X.join(df_dummies)\n",
    "X = X.loc[:, ~X.columns.str.endswith('Dummy')]"
   ]
  },
  {
   "cell_type": "code",
   "execution_count": 27,
   "metadata": {},
   "outputs": [
    {
     "name": "stdout",
     "output_type": "stream",
     "text": [
      "602\n",
      "661\n"
     ]
    }
   ],
   "source": [
    "X_dev = (dv_data\n",
    "    .drop(columns=['UNIQUE_ID', 'split']))\n",
    "\n",
    "for f in list_category_features:\n",
    "    X_dev[f + '_Dummy'] = X_dev[f].astype(str)\n",
    "    \n",
    "df_dev_get_dummies = X_dev[list_dummy_features]\n",
    "df_dev_dummies = pd.get_dummies(df_dev_get_dummies, drop_first=False)\n",
    "\n",
    "df_dev_dummies.columns=df_dev_dummies.columns.str.replace('\\.0','')\n",
    "\n",
    "X_dev = X_dev.join(df_dev_dummies)\n",
    "X_dev = X_dev.loc[:, ~X_dev.columns.str.endswith('Dummy')]\n",
    "\n",
    "print(len(list(X)))\n",
    "print(len(list(X_dev)))"
   ]
  },
  {
   "cell_type": "code",
   "execution_count": 28,
   "metadata": {},
   "outputs": [],
   "source": [
    "\"\"\"\n",
    "Desc:\n",
    " Using set() to find the difference between two lists in Python\n",
    "\"\"\"\n",
    "\n",
    "def list_diff(list1, list2): \n",
    "    return (list(set(list1) - set(list2)))\n",
    "\n",
    "a = list(X)\n",
    "b = list(X_dev)\n",
    "\n",
    "misc_columns = list_diff(a, b)\n",
    "\n",
    "for mc in misc_columns:\n",
    "    X_dev[mc] = 0\n",
    "\n",
    "X_dev = X_dev[(list(X))]"
   ]
  },
  {
   "cell_type": "code",
   "execution_count": 29,
   "metadata": {},
   "outputs": [],
   "source": [
    "input_data.groupby(['Retained']).count()\n",
    "rare_r_class_weight = 44102/21700\n",
    "class_r_weights = [1.0, rare_r_class_weight]"
   ]
  },
  {
   "cell_type": "code",
   "execution_count": 30,
   "metadata": {},
   "outputs": [],
   "source": [
    "input_data.groupby(['High_Performer']).count()\n",
    "rare_hp_class_weight = 44102/5545\n",
    "class_hp_weights = [1.0, rare_hp_class_weight]"
   ]
  },
  {
   "cell_type": "code",
   "execution_count": 31,
   "metadata": {},
   "outputs": [],
   "source": [
    "#temp = y.to_frame().reset_index()\n",
    "#temp.groupby(['High_Performer_Retained']).count()\n",
    "#rare_hpr_class_weight = 44102/3685\n",
    "#class_hpr_weights = [1.0, rare_hpr_class_weight]"
   ]
  },
  {
   "cell_type": "code",
   "execution_count": 32,
   "metadata": {},
   "outputs": [],
   "source": [
    "#column_names = ['age', 'workclass', 'fnlwgt', 'education', 'education_num',\n",
    "#                'martial_status', 'occupation', 'relationship', 'race', 'sex',\n",
    "#                'capital_gain', 'capital_loss', 'hours_per_week', 'country', 'target']\n",
    "#\n",
    "#input_data = (pd.read_csv('data/adult.data', names=column_names,\n",
    "#                          na_values=\"?\", sep=r'\\s*,\\s*', engine='python'))\n",
    "#\n",
    "## sensitive attributes; we identify 'race' and 'sex' as sensitive attributes\n",
    "#sensitive_attribs = ['race', 'sex']\n",
    "#\n",
    "#print(input_data.race.unique())\n",
    "#\n",
    "#Z = (input_data.loc[:, sensitive_attribs]\n",
    "#     .assign(race=lambda df: (df['race'] == 'White').astype(int),\n",
    "#             sex=lambda df: (df['sex'] == 'Male').astype(int)))\n",
    "#\n",
    "## targets; 1 when someone makes over 50k , otherwise 0\n",
    "#y = (input_data['target'] == '>50K').astype(int)\n",
    "#\n",
    "## features; note that the 'target' and sentive attribute columns are dropped\n",
    "#X = (input_data\n",
    "#     .drop(columns=['target', 'race', 'sex', 'fnlwgt'])\n",
    "#     .fillna('Unknown')\n",
    "#     .pipe(pd.get_dummies, drop_first=True))"
   ]
  },
  {
   "cell_type": "code",
   "execution_count": 33,
   "metadata": {},
   "outputs": [],
   "source": [
    "n_features = X.shape[1]\n",
    "n_sensitive = Z.shape[1]\n",
    "\n",
    "# split into train/test set\n",
    "(X_train, X_test, y_train, y_test,\n",
    " Z_train, Z_test) = train_test_split(X, y, Z, test_size=0.5,\n",
    "                                     stratify=y, random_state=7)\n",
    "\n",
    "# standardize the data\n",
    "scaler = StandardScaler().fit(X_train)\n",
    "scale_df = lambda df, scaler: pd.DataFrame(scaler.transform(df), \n",
    "                                           columns=df.columns, index=df.index)\n",
    "X_train = X_train.pipe(scale_df, scaler) \n",
    "X_test = X_test.pipe(scale_df, scaler)\n",
    "X_dev = X_dev.pipe(scale_df, scaler)"
   ]
  },
  {
   "cell_type": "markdown",
   "metadata": {},
   "source": [
    "PyTorch has some [tools](https://pytorch.org/tutorials/beginner/data_loading_tutorial.html#) to make data loading and sampling easier.\n",
    "Here, we will use the `Dataset` and `DataLoader`.\n",
    "A `Dataset` represents your dataset and returns samples from it.\n",
    "The `DataLoader` takes a `Dataset` and helps you with shuffling and batching your samples.\n",
    "\n",
    "A `Dataset` generally takes and returns PyTorch tensors, not rows from a pandas DataFrame.\n",
    "Let's add some logic to the [`TensorDataset`](https://pytorch.org/docs/master/data.html#torch.utils.data.TensorDataset) that converts DataFrames into tensors.\n",
    "Subclass the `TensorDataset` so we can initialize a `Dataset` with our pandas DataFrames:"
   ]
  },
  {
   "cell_type": "code",
   "execution_count": 34,
   "metadata": {
    "scrolled": false
   },
   "outputs": [],
   "source": [
    "class PandasDataSet(TensorDataset):\n",
    "\n",
    "    def __init__(self, *dataframes):\n",
    "        tensors = (self._df_to_tensor(df) for df in dataframes)\n",
    "        super(PandasDataSet, self).__init__(*tensors)\n",
    "\n",
    "    def _df_to_tensor(self, df):\n",
    "        if isinstance(df, pd.Series):\n",
    "            df = df.to_frame('dummy')\n",
    "        return torch.from_numpy(df.values).float()\n",
    "\n",
    "\n",
    "train_data = PandasDataSet(X_train, y_train, Z_train)\n",
    "test_data = PandasDataSet(X_test, y_test, Z_test)\n",
    "dev_data = PandasDataSet(X_dev)"
   ]
  },
  {
   "cell_type": "markdown",
   "metadata": {},
   "source": [
    "Create a `DataLoader` that returns shuffled batches of our training set:"
   ]
  },
  {
   "cell_type": "code",
   "execution_count": 35,
   "metadata": {},
   "outputs": [
    {
     "name": "stdout",
     "output_type": "stream",
     "text": [
      "# training samples: 22051\n",
      "# batches: 689\n"
     ]
    }
   ],
   "source": [
    "train_loader = DataLoader(train_data, batch_size=32, shuffle=True, drop_last=True)\n",
    "#train_loader = DataLoader(train_data, batch_size=1024, shuffle=True, drop_last=True)\n",
    "\n",
    "\n",
    "print('# training samples:', len(train_data))\n",
    "print('# batches:', len(train_loader))"
   ]
  },
  {
   "cell_type": "markdown",
   "metadata": {},
   "source": [
    "That is all the processing we need!\n",
    "All the data needed for training and predicting are respectively in `train_loader` and `test_data`.\n",
    "We get batches of data when iterating over the `train_loader`, `test_data` will be used to test our predictions."
   ]
  },
  {
   "cell_type": "markdown",
   "metadata": {},
   "source": [
    "## Income predictions"
   ]
  },
  {
   "cell_type": "markdown",
   "metadata": {},
   "source": [
    "With our datasets in place, we define and pretrain the classifier to make income predictions.\n",
    "This classifier will be good in predicting income level but is likely to be unfair - it is only penalized on performance and not on fairness.\n",
    "\n",
    "The PyTorch's [`nn`](https://pytorch.org/tutorials/beginner/pytorch_with_examples.html#nn-module) module makes implementing a neural network easy.\n",
    "We get a fully working network class by inheriting from `nn.Module` and implementing the `.forward()` method.\n",
    "Our network consists of three sequential hidden layers with ReLu activation and dropout.\n",
    "The sigmoid layer turns these activations into a probability for the income class."
   ]
  },
  {
   "cell_type": "code",
   "execution_count": 36,
   "metadata": {
    "scrolled": false
   },
   "outputs": [],
   "source": [
    "class Classifier(nn.Module):\n",
    "\n",
    "    def __init__(self, n_features, n_hidden=32, p_dropout=0.2):\n",
    "        super(Classifier, self).__init__()\n",
    "        self.network = nn.Sequential(\n",
    "            nn.Linear(n_features, n_hidden),\n",
    "            nn.ReLU(),\n",
    "            nn.Dropout(p_dropout),\n",
    "            nn.Linear(n_hidden, n_hidden),\n",
    "            nn.ReLU(),\n",
    "            nn.Dropout(p_dropout),\n",
    "            nn.Linear(n_hidden, n_hidden),\n",
    "            nn.ReLU(),\n",
    "            nn.Dropout(p_dropout),\n",
    "            nn.Linear(n_hidden, 1),\n",
    "        )\n",
    "\n",
    "    def forward(self, x):\n",
    "        return torch.sigmoid(self.network(x))"
   ]
  },
  {
   "cell_type": "markdown",
   "metadata": {},
   "source": [
    "Initialize the classifier, choose binary cross entropy as the loss function and let Adam optimize the weights of the classifier:"
   ]
  },
  {
   "cell_type": "code",
   "execution_count": 37,
   "metadata": {},
   "outputs": [],
   "source": [
    "clf = Classifier(n_features=n_features)\n",
    "clf_criterion = nn.BCELoss()\n",
    "clf_optimizer = optim.Adam(clf.parameters())"
   ]
  },
  {
   "cell_type": "markdown",
   "metadata": {},
   "source": [
    "Time to pretrain the classifier!\n",
    "For each epoch, we'll iterate over the batches returned by our `DataLoader`."
   ]
  },
  {
   "cell_type": "code",
   "execution_count": 38,
   "metadata": {
    "scrolled": true
   },
   "outputs": [],
   "source": [
    "# CHANGE\n",
    "\n",
    "def pretrain_classifier(clf, data_loader, optimizer, criterion):\n",
    "    for x, y, _ in data_loader:\n",
    "        clf.zero_grad()\n",
    "        p_y = clf(x)\n",
    "        loss = criterion(p_y, y)\n",
    "        loss.backward()\n",
    "        optimizer.step()\n",
    "    return clf\n",
    "\n",
    "\n",
    "N_CLF_EPOCHS = 2\n",
    "\n",
    "for epoch in range(N_CLF_EPOCHS):\n",
    "    clf = pretrain_classifier(clf, train_loader, clf_optimizer, clf_criterion)"
   ]
  },
  {
   "cell_type": "markdown",
   "metadata": {},
   "source": [
    "The code above does the following for each batch:\n",
    "- Set the gradients relevant to our classifier to zero.\n",
    "- Let the classifier `clf` predict for a batch `x` to give `p_y`.\n",
    "- Compute the loss given the predictions and the real answer.\n",
    "- Backpropagate the loss with a  `.backward()` to give the gradients to decrease the errors.\n",
    "- Let the classifier optimizer perform an optimization step with these gradients.\n",
    "\n",
    "The result should be a fairly performant though still unfair classifier.\n",
    "We will check the performance after defining the adversary."
   ]
  },
  {
   "cell_type": "markdown",
   "metadata": {},
   "source": [
    "## Detecting unfairness"
   ]
  },
  {
   "cell_type": "markdown",
   "metadata": {},
   "source": [
    "With the classifier pretrained, we now define and pretrain the adversary.\n",
    "Similar to the classifier, our adversary consists of three layers.\n",
    "However, the input comes from a single class (the predicted income class) and the output consists of two sensitive classes (sex and race).\n",
    "\n",
    "For our final solution, there will be a trade-off between classifier performance and fairness for our sensitive attributes.\n",
    "We will tweak the adversarial loss to incorporate that trade-off: the lambda parameter weighs the adversarial loss of each class.\n",
    "This parameter is later also used to scale the adversary performance versus the classifier performance.\n",
    "\n",
    "By telling `nn.BCELoss` not to reduce we get the losses for each individual sample and class instead of a single number.\n",
    "Multiplying this with our `lambdas` and taking the average, gives us the weighted adversarial loss, our proxy for unfairness."
   ]
  },
  {
   "cell_type": "code",
   "execution_count": 39,
   "metadata": {
    "scrolled": false
   },
   "outputs": [],
   "source": [
    "# CHANGE\n",
    "\n",
    "class Adversary(nn.Module):\n",
    "\n",
    "    def __init__(self, n_sensitive, n_hidden=32):\n",
    "        super(Adversary, self).__init__()\n",
    "        self.network = nn.Sequential(\n",
    "            nn.Linear(1, n_hidden),\n",
    "            nn.ReLU(),\n",
    "            nn.Linear(n_hidden, n_hidden),\n",
    "            nn.ReLU(),\n",
    "            nn.Linear(n_hidden, n_hidden),\n",
    "            nn.ReLU(),\n",
    "            nn.Linear(n_hidden, n_sensitive),\n",
    "        )\n",
    "\n",
    "    def forward(self, x):\n",
    "        return torch.sigmoid(self.network(x))\n",
    "\n",
    "\n",
    "def pretrain_adversary(adv, clf, data_loader, optimizer, criterion):\n",
    "    for x, _, z in data_loader:\n",
    "        p_y = clf(x).detach()\n",
    "        adv.zero_grad()\n",
    "        p_z = adv(p_y)\n",
    "        loss = (criterion(p_z, z) * lambdas).mean()\n",
    "        loss.backward()\n",
    "        optimizer.step()\n",
    "    return adv\n",
    "\n",
    "\n",
    "lambdas = torch.Tensor([130, 30])\n",
    "#lambdas = torch.Tensor(class_r_weights)\n",
    "adv = Adversary(Z_train.shape[1])\n",
    "adv_criterion = nn.BCELoss(reduce=None)\n",
    "adv_optimizer = optim.Adam(adv.parameters())\n",
    "\n",
    "\n",
    "N_ADV_EPOCHS = 5\n",
    "\n",
    "for epoch in range(N_ADV_EPOCHS):\n",
    "    pretrain_adversary(adv, clf, train_loader, adv_optimizer, adv_criterion)"
   ]
  },
  {
   "cell_type": "markdown",
   "metadata": {},
   "source": [
    "Training the adversary is pretty similar to how we trained the classifier.\n",
    "Note that we [`.detach()`](https://pytorch.org/docs/master/autograd.html#torch.Tensor.detach) the predictions of the classifier from the graph.\n",
    "This signals to PyTorch that we don't use the gradients of the classifier operations to optimize the adversary, allowing PyTorch to free up some memory."
   ]
  },
  {
   "cell_type": "markdown",
   "metadata": {
    "scrolled": false
   },
   "source": [
    "Are our results similar to those of our earlier blog using keras and TensorFlow?\n",
    "Pretty much!\n",
    "The ROC AUC, accuracy and probability distributions look very similar."
   ]
  },
  {
   "cell_type": "code",
   "execution_count": 40,
   "metadata": {
    "scrolled": false
   },
   "outputs": [
    {
     "data": {
      "image/png": "[encoded data removed]",
      "text/plain": [
       "<Figure size 720x288 with 2 Axes>"
      ]
     },
     "metadata": {
      "needs_background": "light"
     },
     "output_type": "display_data"
    }
   ],
   "source": [
    "# HIDE\n",
    "\n",
    "with torch.no_grad():\n",
    "    pre_clf_test = clf(test_data.tensors[0])\n",
    "    pre_adv_test = adv(pre_clf_test)\n",
    "\n",
    "\n",
    "y_pre_clf = pd.Series(pre_clf_test.data.numpy().ravel(),\n",
    "                      index=y_test.index)\n",
    "y_pre_adv = pd.DataFrame(pre_adv_test.numpy(), columns=Z.columns)\n",
    "fig = plot_distribution(y_test, Z_test, y_pre_clf, y_pre_adv)\n",
    "fig.savefig('images/torch_biased_training_siop20.png')"
   ]
  },
  {
   "cell_type": "markdown",
   "metadata": {},
   "source": [
    "Unfortunately, switching frameworks did not magically make the classifier fairer.\n",
    "We can see this from the probability p%-rule and distributions, but also from the ROC AUC score of the adversary.\n",
    "A score higher than 0.5 indicates that the adversary is able to detect unfairness."
   ]
  },
  {
   "cell_type": "markdown",
   "metadata": {},
   "source": [
    "## Training for fairness"
   ]
  },
  {
   "cell_type": "markdown",
   "metadata": {},
   "source": [
    "Now that we have an unfair classifier and an adversary that is able to pick up on unfairness, we can engage them in the zero-sum game to make the classifier fair.\n",
    "Remember that the fair classifier will be punished according to:\n",
    "\n",
    "$$\\min_{\\theta_{clf}}\\left[Loss_{y}(\\theta_{clf})-\\lambda Loss_{Z}(\\theta_{clf},\\theta_{adv})\\right].$$\n",
    "\n",
    "The first term represents how good the classifier is in predicting income, the second how good the adversary can reconstruct unfairness. \n",
    "The parameter $\\lambda$ represents the trade-off between these terms: it weighs the punishment by the adversary versus the prediction performance.\n",
    "\n",
    "The adversary learns on the full data set and the classifier is given only the single batch, giving the adversary a slight edge in learning.\n",
    "The loss function for the classifier is changed to its original loss plus the weighted negative adversarial loss."
   ]
  },
  {
   "cell_type": "code",
   "execution_count": 41,
   "metadata": {},
   "outputs": [],
   "source": [
    "# HIDE\n",
    "!rm -f output/torch_*.png"
   ]
  },
  {
   "cell_type": "code",
   "execution_count": 42,
   "metadata": {},
   "outputs": [],
   "source": [
    "if torch.cuda.is_available():\n",
    "    dev = \"cuda:0\" \n",
    "else:  \n",
    "    dev = \"cpu\"\n",
    "\n",
    "device = torch.device(dev)"
   ]
  },
  {
   "cell_type": "code",
   "execution_count": 22,
   "metadata": {
    "scrolled": true
   },
   "outputs": [
    {
     "data": {
      "image/png": "[encoded data removed]",
      "text/plain": [
       "<Figure size 720x288 with 2 Axes>"
      ]
     },
     "metadata": {
      "needs_background": "light"
     },
     "output_type": "display_data"
    },
    {
     "ename": "KeyboardInterrupt",
     "evalue": "",
     "output_type": "error",
     "traceback": [
      "\u001b[0;31m---------------------------------------------------------------------------\u001b[0m",
      "\u001b[0;31mKeyboardInterrupt\u001b[0m                         Traceback (most recent call last)",
      "\u001b[0;32m<ipython-input-22-7a4fc2b1ca99>\u001b[0m in \u001b[0;36m<module>\u001b[0;34m\u001b[0m\n\u001b[1;32m     32\u001b[0m \u001b[0;34m\u001b[0m\u001b[0m\n\u001b[1;32m     33\u001b[0m     clf, adv = train(clf, adv, train_loader, clf_criterion, adv_criterion,\n\u001b[0;32m---> 34\u001b[0;31m                      clf_optimizer, adv_optimizer, lambdas)\n\u001b[0m\u001b[1;32m     35\u001b[0m \u001b[0;34m\u001b[0m\u001b[0m\n\u001b[1;32m     36\u001b[0m     \u001b[0;32mwith\u001b[0m \u001b[0mtorch\u001b[0m\u001b[0;34m.\u001b[0m\u001b[0mno_grad\u001b[0m\u001b[0;34m(\u001b[0m\u001b[0;34m)\u001b[0m\u001b[0;34m:\u001b[0m\u001b[0;34m\u001b[0m\u001b[0;34m\u001b[0m\u001b[0m\n",
      "\u001b[0;32m<ipython-input-22-7a4fc2b1ca99>\u001b[0m in \u001b[0;36mtrain\u001b[0;34m(clf, adv, data_loader, clf_criterion, adv_criterion, clf_optimizer, adv_optimizer, lambdas)\u001b[0m\n\u001b[1;32m     10\u001b[0m         \u001b[0mp_z\u001b[0m \u001b[0;34m=\u001b[0m \u001b[0madv\u001b[0m\u001b[0;34m(\u001b[0m\u001b[0mp_y\u001b[0m\u001b[0;34m)\u001b[0m\u001b[0;34m\u001b[0m\u001b[0;34m\u001b[0m\u001b[0m\n\u001b[1;32m     11\u001b[0m         \u001b[0mloss_adv\u001b[0m \u001b[0;34m=\u001b[0m \u001b[0;34m(\u001b[0m\u001b[0madv_criterion\u001b[0m\u001b[0;34m(\u001b[0m\u001b[0mp_z\u001b[0m\u001b[0;34m,\u001b[0m \u001b[0mz\u001b[0m\u001b[0;34m)\u001b[0m \u001b[0;34m*\u001b[0m \u001b[0mlambdas\u001b[0m\u001b[0;34m)\u001b[0m\u001b[0;34m.\u001b[0m\u001b[0mmean\u001b[0m\u001b[0;34m(\u001b[0m\u001b[0;34m)\u001b[0m\u001b[0;34m\u001b[0m\u001b[0;34m\u001b[0m\u001b[0m\n\u001b[0;32m---> 12\u001b[0;31m         \u001b[0mloss_adv\u001b[0m\u001b[0;34m.\u001b[0m\u001b[0mbackward\u001b[0m\u001b[0;34m(\u001b[0m\u001b[0;34m)\u001b[0m\u001b[0;34m\u001b[0m\u001b[0;34m\u001b[0m\u001b[0m\n\u001b[0m\u001b[1;32m     13\u001b[0m         \u001b[0madv_optimizer\u001b[0m\u001b[0;34m.\u001b[0m\u001b[0mstep\u001b[0m\u001b[0;34m(\u001b[0m\u001b[0;34m)\u001b[0m\u001b[0;34m\u001b[0m\u001b[0;34m\u001b[0m\u001b[0m\n\u001b[1;32m     14\u001b[0m \u001b[0;34m\u001b[0m\u001b[0m\n",
      "\u001b[0;32m~/miniconda3/envs/fairness-in-ml/lib/python3.6/site-packages/torch/tensor.py\u001b[0m in \u001b[0;36mbackward\u001b[0;34m(self, gradient, retain_graph, create_graph)\u001b[0m\n\u001b[1;32m    193\u001b[0m                 \u001b[0mproducts\u001b[0m\u001b[0;34m.\u001b[0m \u001b[0mDefaults\u001b[0m \u001b[0mto\u001b[0m\u001b[0;31m \u001b[0m\u001b[0;31m`\u001b[0m\u001b[0;31m`\u001b[0m\u001b[0;32mFalse\u001b[0m\u001b[0;31m`\u001b[0m\u001b[0;31m`\u001b[0m\u001b[0;34m.\u001b[0m\u001b[0;34m\u001b[0m\u001b[0;34m\u001b[0m\u001b[0m\n\u001b[1;32m    194\u001b[0m         \"\"\"\n\u001b[0;32m--> 195\u001b[0;31m         \u001b[0mtorch\u001b[0m\u001b[0;34m.\u001b[0m\u001b[0mautograd\u001b[0m\u001b[0;34m.\u001b[0m\u001b[0mbackward\u001b[0m\u001b[0;34m(\u001b[0m\u001b[0mself\u001b[0m\u001b[0;34m,\u001b[0m \u001b[0mgradient\u001b[0m\u001b[0;34m,\u001b[0m \u001b[0mretain_graph\u001b[0m\u001b[0;34m,\u001b[0m \u001b[0mcreate_graph\u001b[0m\u001b[0;34m)\u001b[0m\u001b[0;34m\u001b[0m\u001b[0;34m\u001b[0m\u001b[0m\n\u001b[0m\u001b[1;32m    196\u001b[0m \u001b[0;34m\u001b[0m\u001b[0m\n\u001b[1;32m    197\u001b[0m     \u001b[0;32mdef\u001b[0m \u001b[0mregister_hook\u001b[0m\u001b[0;34m(\u001b[0m\u001b[0mself\u001b[0m\u001b[0;34m,\u001b[0m \u001b[0mhook\u001b[0m\u001b[0;34m)\u001b[0m\u001b[0;34m:\u001b[0m\u001b[0;34m\u001b[0m\u001b[0;34m\u001b[0m\u001b[0m\n",
      "\u001b[0;32m~/miniconda3/envs/fairness-in-ml/lib/python3.6/site-packages/torch/autograd/__init__.py\u001b[0m in \u001b[0;36mbackward\u001b[0;34m(tensors, grad_tensors, retain_graph, create_graph, grad_variables)\u001b[0m\n\u001b[1;32m     97\u001b[0m     Variable._execution_engine.run_backward(\n\u001b[1;32m     98\u001b[0m         \u001b[0mtensors\u001b[0m\u001b[0;34m,\u001b[0m \u001b[0mgrad_tensors\u001b[0m\u001b[0;34m,\u001b[0m \u001b[0mretain_graph\u001b[0m\u001b[0;34m,\u001b[0m \u001b[0mcreate_graph\u001b[0m\u001b[0;34m,\u001b[0m\u001b[0;34m\u001b[0m\u001b[0;34m\u001b[0m\u001b[0m\n\u001b[0;32m---> 99\u001b[0;31m         allow_unreachable=True)  # allow_unreachable flag\n\u001b[0m\u001b[1;32m    100\u001b[0m \u001b[0;34m\u001b[0m\u001b[0m\n\u001b[1;32m    101\u001b[0m \u001b[0;34m\u001b[0m\u001b[0m\n",
      "\u001b[0;31mKeyboardInterrupt\u001b[0m: "
     ]
    }
   ],
   "source": [
    "# CHANGE\n",
    "\n",
    "def train(clf, adv, data_loader, clf_criterion, adv_criterion,\n",
    "          clf_optimizer, adv_optimizer, lambdas):\n",
    "    \n",
    "    # Train adversary\n",
    "    for x, y, z in data_loader:\n",
    "        p_y = clf(x)\n",
    "        adv.zero_grad()\n",
    "        p_z = adv(p_y)\n",
    "        loss_adv = (adv_criterion(p_z, z) * lambdas).mean()\n",
    "        loss_adv.backward()\n",
    "        adv_optimizer.step()\n",
    " \n",
    "    # Train classifier on single batch\n",
    "    for x, y, z in data_loader:\n",
    "        pass\n",
    "    p_y = clf(x)\n",
    "    p_z = adv(p_y)\n",
    "    clf.zero_grad()\n",
    "    p_z = adv(p_y)\n",
    "    loss_adv = (adv_criterion(p_z, z) * lambdas).mean()\n",
    "    clf_loss = clf_criterion(p_y, y) - (adv_criterion(adv(p_y), z) * lambdas).mean()\n",
    "    clf_loss.backward()\n",
    "    clf_optimizer.step()\n",
    "    \n",
    "    return clf, adv\n",
    "\n",
    "N_EPOCH_COMBINED = 165\n",
    "\n",
    "for epoch in range(1, N_EPOCH_COMBINED):\n",
    "    \n",
    "    clf, adv = train(clf, adv, train_loader, clf_criterion, adv_criterion,\n",
    "                     clf_optimizer, adv_optimizer, lambdas)\n",
    "\n",
    "    with torch.no_grad():\n",
    "        clf_pred = clf(test_data.tensors[0])\n",
    "        adv_pred = adv(clf_pred)\n",
    "\n",
    "    y_post_clf = pd.Series(clf_pred.numpy().ravel(), index=y_test.index)\n",
    "    Z_post_adv = pd.DataFrame(adv_pred.numpy(), columns=Z_test.columns)\n",
    "    \n",
    "    fig = plot_distribution(y_test, Z_test, y_post_clf, Z_post_adv, epoch)\n",
    "    display.clear_output(wait=True)\n",
    "    plt.savefig(f'output/torch_{epoch+1:08d}.png', bbox_inches='tight')\n",
    "    plt.show(plt.gcf())\n",
    "\n",
    "# Set model to eval\n",
    "clf.eval()\n",
    "last_img = f'output/torch_{epoch+1:08d}.png'\n",
    "\n",
    "# Adding a beep.wav to signal training is complete\n",
    "from IPython.display import Audio\n",
    "sound_file = './sound/beep.wav'\n",
    "Audio(sound_file, autoplay=True)"
   ]
  },
  {
   "cell_type": "code",
   "execution_count": null,
   "metadata": {
    "scrolled": true
   },
   "outputs": [],
   "source": [
    "# HIDE\n",
    "!convert -loop 0 -delay 0 output/torch_*.png -delay 500 {last_img} images/torch_training.gif"
   ]
  },
  {
   "cell_type": "markdown",
   "metadata": {},
   "source": [
    "Our results are pretty similar to our previous blog.\n",
    "The classifier starts off unfair, but trades some of its performance for fairness.\n",
    "At the end of training, the ROC AUC of the adversary is 0.50, indicating that it's unable to detect race or gender from the made predictions.\n",
    "That's also shown by the p-rules: they're both above 80%.\n",
    "We've successfully used an adversarial neural network to make our classifier fair!"
   ]
  },
  {
   "cell_type": "markdown",
   "metadata": {},
   "source": [
    "## Conclusion"
   ]
  },
  {
   "cell_type": "markdown",
   "metadata": {},
   "source": [
    "This blog took you through the steps of implementing a fair classifier in PyTorch.\n",
    "You can find the total and the original keras implementation in [our GitHub repo](https://github.com/equialgo/fairness-in-ml).\n",
    "Please consider adding a Pull Request if you've succesfully applied this model to your dataset!"
   ]
  },
  {
   "cell_type": "code",
   "execution_count": null,
   "metadata": {},
   "outputs": [],
   "source": [
    "from sklearn.metrics import classification_report\n",
    "\n",
    "clf_roc_auc = metrics.roc_auc_score(y_test, y_post_clf)\n",
    "clf_accuracy = metrics.accuracy_score(y_test, y_post_clf > 0.5) * 100"
   ]
  },
  {
   "cell_type": "code",
   "execution_count": null,
   "metadata": {},
   "outputs": [],
   "source": [
    "#xxx = df_test['High_Performer_Pred']\n",
    "#yyy = y_test\n",
    "\n",
    "#clf_acc = metrics.accuracy_score(yyy, xxx > 0.5) * 100\n",
    "\n",
    "#df_test = pd.concat([xxx, yyy], axis=1).round(2)\n",
    "#df_test.sort_values(by=['High_Performer', 'High_Performer_Pred'])\n",
    "#df_test.High_Performer_Pred.mean()\n",
    "#print(classification_report(xxx, yyy))"
   ]
  },
  {
   "cell_type": "code",
   "execution_count": null,
   "metadata": {},
   "outputs": [],
   "source": [
    "# HPR mlif\n",
    "\n",
    "#clf_pred = clf(dev_data.tensors[0])\n",
    "#clf_pred_detach = clf_pred.detach().numpy()\n",
    "#df_hpr = pd.DataFrame(clf_pred_detach, columns=['hpr_mlif_pred'])\n",
    "\n",
    "#df_hpr['hpr_mlif_pred_50'] = df_hpr['hpr_mlif_pred'].apply(lambda x: x*.50)\n",
    "#dv_ids = dv_data['UNIQUE_ID']\n",
    "#dv_hpr_preds = (dv_ids.to_frame()).join(df_hpr)\n",
    "#dv_hpr_preds.to_csv('./output/preds/dv_hpr_mlif_preds.csv', index=False)\n",
    "#df_hpr.hpr_mlif_pred.mean()"
   ]
  },
  {
   "cell_type": "code",
   "execution_count": null,
   "metadata": {},
   "outputs": [],
   "source": [
    "# HPR\n",
    "\n",
    "#clf_pred = clf(dev_data.tensors[0])\n",
    "#clf_pred_detach = clf_pred.detach().numpy()\n",
    "#df_hpr = pd.DataFrame(clf_pred_detach, columns=['hpr_pred'])\n",
    "\n",
    "#df_hpr['hpr_pred_50'] = df_hpr['hpr_pred'].apply(lambda x: x*.50)\n",
    "#dv_ids = dv_data['UNIQUE_ID']\n",
    "#dv_hpr_preds = (dv_ids.to_frame()).join(df_hpr)\n",
    "#dv_hpr_preds.to_csv('./output/preds/dv_hpr_preds.csv', index=False)\n",
    "#df_hpr.hpr_pred.mean()"
   ]
  },
  {
   "cell_type": "code",
   "execution_count": null,
   "metadata": {},
   "outputs": [],
   "source": [
    "# HP\n",
    "\n",
    "#clf_pred = clf(dev_data.tensors[0])\n",
    "#clf_pred_detach = clf_pred.detach().numpy()\n",
    "#df_hp = pd.DataFrame(clf_pred_detach, columns=['hp_pred'])\n",
    "\n",
    "#df_hp['hp_pred_25'] = df_hp['hp_pred'].apply(lambda x: x*.25)\n",
    "#dv_ids = dv_data['UNIQUE_ID']\n",
    "#dv_hp_preds = (dv_ids.to_frame()).join(df_hp)\n",
    "#dv_hp_preds.to_csv('./output/preds/dv_hp_preds.csv', index=False)\n",
    "#df_hp.hp_pred.mean()"
   ]
  },
  {
   "cell_type": "code",
   "execution_count": null,
   "metadata": {},
   "outputs": [],
   "source": [
    "# r\n",
    "\n",
    "#clf_pred = clf(dev_data.tensors[0])\n",
    "#clf_pred_detach = clf_pred.detach().numpy()\n",
    "#df_r = pd.DataFrame(clf_pred_detach, columns=['r_pred'])\n",
    "\n",
    "#df_r['r_pred_25'] = df_r['r_pred'].apply(lambda x: x*.25)\n",
    "#dv_ids = dv_data['UNIQUE_ID']\n",
    "#dv_r_preds = (dv_ids.to_frame()).join(df_r)\n",
    "#dv_r_preds.to_csv('./output/preds/dv_r_preds.csv', index=False)\n",
    "#df_r.r_pred.mean()"
   ]
  },
  {
   "cell_type": "code",
   "execution_count": null,
   "metadata": {},
   "outputs": [],
   "source": [
    "from functools import reduce\n",
    "#\n",
    "#df_hpr_preds = pd.read_csv('./output/preds/dv_hpr_preds.csv')\n",
    "#df_hp_preds = pd.read_csv('./output/preds/dv_hp_preds.csv')\n",
    "#df_r_preds = pd.read_csv('./output/preds/dv_r_preds.csv')\n",
    "#\n",
    "#df_hpr_preds['hpr_pred_50'] = df_hpr_preds['hpr_pred'].apply(lambda x: x*.50)\n",
    "#df_hp_preds['hp_pred_25'] = df_hp_preds['hp_pred'].apply(lambda x: x*.25)\n",
    "#df_r_preds['r_pred_25'] = df_r_preds['r_pred'].apply(lambda x: x*.25)\n",
    "#\n",
    "#frames=[df_hpr_preds, df_hp_preds, df_r_preds]\n",
    "#df_all = reduce(lambda left,right: pd.merge(left,right,on=['UNIQUE_ID'], how='outer'), frames)\n",
    "#\n",
    "#list_s = ['UNIQUE_ID', 'hpr_pred_50', 'hp_pred_25', 'r_pred_25']\n",
    "#list_comp = ['hpr_pred_50', 'hp_pred_25', 'r_pred_25']\n",
    "#\n",
    "#df_all['Hire_Continuous'] = df_all[list_comp].sum(axis=1)\n",
    "#\n",
    "#df_all['Hire_Sorted'] = df_all.Hire_Continuous.rank(ascending=True)\n",
    "#df_hire = df_all.nlargest(1125, 'Hire_Continuous')\n",
    "#df_hire['Hire'] = 1\n",
    "#df_hire = df_hire.loc[:, ['UNIQUE_ID', 'Hire']]\n",
    "#df_all = df_all.merge(df_hire, on='UNIQUE_ID', how='left').fillna(0)\n",
    "#\n",
    "##df_all = df_all.sort_values(by=['Hire', 'Hire_Sorted'])\n",
    "#df_gb = df_all.loc[:, ['UNIQUE_ID', 'Hire', 'Hire_Continuous']]\n",
    "#df_all = df_all.loc[:, ['UNIQUE_ID', 'Hire']]\n",
    "#\n",
    "#df_all.to_csv('./output/preds/df_sub1.csv', index=False)\n",
    "##df_gb.groupby(['Hire']).mean()"
   ]
  },
  {
   "cell_type": "code",
   "execution_count": null,
   "metadata": {},
   "outputs": [],
   "source": []
  },
  {
   "cell_type": "code",
   "execution_count": null,
   "metadata": {},
   "outputs": [],
   "source": []
  },
  {
   "cell_type": "code",
   "execution_count": null,
   "metadata": {},
   "outputs": [],
   "source": []
  },
  {
   "cell_type": "code",
   "execution_count": null,
   "metadata": {},
   "outputs": [],
   "source": []
  },
  {
   "cell_type": "code",
   "execution_count": null,
   "metadata": {},
   "outputs": [],
   "source": []
  }
 ],
 "metadata": {
  "anaconda-cloud": {},
  "kernelspec": {
   "display_name": "Python 3",
   "language": "python",
   "name": "python3"
  },
  "language_info": {
   "codemirror_mode": {
    "name": "ipython",
    "version": 3
   },
   "file_extension": ".py",
   "mimetype": "text/x-python",
   "name": "python",
   "nbconvert_exporter": "python",
   "pygments_lexer": "ipython3",
   "version": "3.8.6-final"
  }
 },
 "nbformat": 4,
 "nbformat_minor": 2
}